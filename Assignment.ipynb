{
 "cells": [
  {
   "cell_type": "code",
   "execution_count": null,
   "metadata": {},
   "outputs": [],
   "source": [
    "def is_prime(num: int) -> bool:\n",
    "    if num < 2:\n",
    "        return False\n",
    "    for i in range(2, int(num**0.5) + 1):\n",
    "        if num % i == 0:\n",
    "            return False\n",
    "    return True\n",
    "\n",
    "# Main program\n",
    "def main() -> None:\n",
    "    # Greet the user and get their name\n",
    "    name: str = input(\"Enter your name: \")\n",
    "    \n",
    "    # Ask for three favorite numbers\n",
    "    numbers: list[int] = []\n",
    "    for i in range(1, 4):\n",
    "        num: int = int(input(f\"Enter your {i} favorite number: \"))\n",
    "        numbers.append(num)\n",
    "    \n",
    "    # Greet the user\n",
    "    print(f\"\\nHello, {name}! Let's explore your favorite numbers:\")\n",
    "    \n",
    "    # Determine if numbers are even or odd and store the information in a list of tuples\n",
    "    even_odd_info: list[tuple[int, str]] = [\n",
    "        (num, \"even\" if num % 2 == 0 else \"odd\") for num in numbers\n",
    "    ]\n",
    "    \n",
    "    # Print whether each number is even or odd\n",
    "    for num, even_odd in even_odd_info:\n",
    "        print(f\"The number {num} is {even_odd}.\")\n",
    "    \n",
    "    # Calculate the squares of the numbers and print them\n",
    "    print(\"\\nHere are your numbers and their squares:\")\n",
    "    for num in numbers:\n",
    "        square_tuple: tuple[int, int] = (num, num ** 2)\n",
    "        print(f\"The number {num} and its square: {square_tuple}\")\n",
    "    \n",
    "    # Calculate the sum of the numbers\n",
    "    sum_of_numbers: int = sum(numbers)\n",
    "    print(f\"\\nAmazing! The sum of your favorite numbers is: {sum_of_numbers}\")\n",
    "    \n",
    "    # Check if the sum is a prime number and notify the user\n",
    "    if is_prime(sum_of_numbers):\n",
    "        print(f\"Wow, {sum_of_numbers} is a prime number!\")\n",
    "    else:\n",
    "        print(f\"{sum_of_numbers} is not a prime number.\")\n",
    "\n",
    "# Run the main program\n",
    "if __name__ == \"__main__\":\n",
    "    main()"
   ]
  }
 ],
 "metadata": {
  "kernelspec": {
   "display_name": "Python 3",
   "language": "python",
   "name": "python3"
  },
  "language_info": {
   "codemirror_mode": {
    "name": "ipython",
    "version": 3
   },
   "file_extension": ".py",
   "mimetype": "text/x-python",
   "name": "python",
   "nbconvert_exporter": "python",
   "pygments_lexer": "ipython3",
   "version": "3.12.4"
  }
 },
 "nbformat": 4,
 "nbformat_minor": 2
}
